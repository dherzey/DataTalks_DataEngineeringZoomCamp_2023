{
 "cells": [
  {
   "cell_type": "code",
   "execution_count": 27,
   "id": "b74f343f",
   "metadata": {},
   "outputs": [],
   "source": [
    "import pandas as pd\n",
    "import numpy as np\n",
    "import pyarrow.csv as pv\n",
    "import pyarrow.parquet as pq"
   ]
  },
  {
   "cell_type": "code",
   "execution_count": 38,
   "id": "f31fed55",
   "metadata": {},
   "outputs": [],
   "source": [
    "filename = '/home/jdtganding/Documents/data-engineering-zoomcamp/week_3_data_warehouse/data/green/green_tripdata_2019-07.csv'\n",
    "data = pd.read_csv(filename, iterator=True, chunksize=100000)"
   ]
  },
  {
   "cell_type": "code",
   "execution_count": 19,
   "id": "40e604b3",
   "metadata": {},
   "outputs": [
    {
     "data": {
      "text/plain": [
       "161113      N\n",
       "396260      N\n",
       "217802      N\n",
       "375653      N\n",
       "147990      N\n",
       "338192      N\n",
       "34138       N\n",
       "453330    NaN\n",
       "130758      N\n",
       "135997      N\n",
       "Name: store_and_fwd_flag, dtype: object"
      ]
     },
     "execution_count": 19,
     "metadata": {},
     "output_type": "execute_result"
    }
   ],
   "source": [
    "data.store_and_fwd_flag.sample(10)"
   ]
  },
  {
   "cell_type": "code",
   "execution_count": 22,
   "id": "6464e1ca",
   "metadata": {},
   "outputs": [
    {
     "data": {
      "text/plain": [
       "[1, 2, 3, 4, 5, 6, 7, 8, 9, 10, 11, 12]"
      ]
     },
     "execution_count": 22,
     "metadata": {},
     "output_type": "execute_result"
    }
   ],
   "source": [
    "list(np.arange(1,13))"
   ]
  }
 ],
 "metadata": {
  "kernelspec": {
   "display_name": "Python 3 (ipykernel)",
   "language": "python",
   "name": "python3"
  },
  "language_info": {
   "codemirror_mode": {
    "name": "ipython",
    "version": 3
   },
   "file_extension": ".py",
   "mimetype": "text/x-python",
   "name": "python",
   "nbconvert_exporter": "python",
   "pygments_lexer": "ipython3",
   "version": "3.9.2"
  }
 },
 "nbformat": 4,
 "nbformat_minor": 5
}
