{
 "cells": [
  {
   "cell_type": "code",
   "execution_count": 1,
   "id": "b74f343f",
   "metadata": {},
   "outputs": [],
   "source": [
    "import pandas as pd\n",
    "import numpy as np\n",
    "import pyarrow.csv as pv\n",
    "import pyarrow.parquet as pq"
   ]
  },
  {
   "cell_type": "code",
   "execution_count": 77,
   "id": "f31fed55",
   "metadata": {},
   "outputs": [
    {
     "name": "stderr",
     "output_type": "stream",
     "text": [
      "/tmp/ipykernel_6696/2055898.py:5: DtypeWarning: Columns (3) have mixed types. Specify dtype option on import or set low_memory=False.\n",
      "  df = pd.read_csv(filename)\n",
      "/tmp/ipykernel_6696/2055898.py:5: DtypeWarning: Columns (3) have mixed types. Specify dtype option on import or set low_memory=False.\n",
      "  df = pd.read_csv(filename)\n",
      "/tmp/ipykernel_6696/2055898.py:5: DtypeWarning: Columns (3) have mixed types. Specify dtype option on import or set low_memory=False.\n",
      "  df = pd.read_csv(filename)\n",
      "/tmp/ipykernel_6696/2055898.py:5: DtypeWarning: Columns (3) have mixed types. Specify dtype option on import or set low_memory=False.\n",
      "  df = pd.read_csv(filename)\n",
      "/tmp/ipykernel_6696/2055898.py:5: DtypeWarning: Columns (3) have mixed types. Specify dtype option on import or set low_memory=False.\n",
      "  df = pd.read_csv(filename)\n",
      "/tmp/ipykernel_6696/2055898.py:5: DtypeWarning: Columns (3) have mixed types. Specify dtype option on import or set low_memory=False.\n",
      "  df = pd.read_csv(filename)\n"
     ]
    }
   ],
   "source": [
    "data = []\n",
    "for month in range(12):\n",
    "    filename = f'https://github.com/DataTalksClub/nyc-tlc-data/releases/download/green/green_tripdata_2019-{month+1:02}.csv.gz'\n",
    "    # data = pd.read_csv(filename, iterator=True, chunksize=3000000)\n",
    "    df = pd.read_csv(filename)\n",
    "    data.append(df)\n",
    "df = pd.concat(data)"
   ]
  },
  {
   "cell_type": "code",
   "execution_count": 78,
   "id": "cccea215",
   "metadata": {},
   "outputs": [
    {
     "name": "stdout",
     "output_type": "stream",
     "text": [
      "<class 'pandas.core.frame.DataFrame'>\n",
      "Int64Index: 6044050 entries, 0 to 450626\n",
      "Data columns (total 20 columns):\n",
      " #   Column                 Dtype  \n",
      "---  ------                 -----  \n",
      " 0   VendorID               float64\n",
      " 1   lpep_pickup_datetime   object \n",
      " 2   lpep_dropoff_datetime  object \n",
      " 3   store_and_fwd_flag     object \n",
      " 4   RatecodeID             float64\n",
      " 5   PULocationID           int64  \n",
      " 6   DOLocationID           int64  \n",
      " 7   passenger_count        float64\n",
      " 8   trip_distance          float64\n",
      " 9   fare_amount            float64\n",
      " 10  extra                  float64\n",
      " 11  mta_tax                float64\n",
      " 12  tip_amount             float64\n",
      " 13  tolls_amount           float64\n",
      " 14  ehail_fee              float64\n",
      " 15  improvement_surcharge  float64\n",
      " 16  total_amount           float64\n",
      " 17  payment_type           float64\n",
      " 18  trip_type              float64\n",
      " 19  congestion_surcharge   float64\n",
      "dtypes: float64(15), int64(2), object(3)\n",
      "memory usage: 968.4+ MB\n"
     ]
    }
   ],
   "source": [
    "df.info()"
   ]
  },
  {
   "cell_type": "code",
   "execution_count": 80,
   "id": "7775ada5",
   "metadata": {},
   "outputs": [
    {
     "name": "stdout",
     "output_type": "stream",
     "text": [
      "['VendorID', 'RatecodeID', 'passenger_count', 'trip_distance', 'fare_amount', 'extra', 'mta_tax', 'tip_amount', 'tolls_amount', 'ehail_fee', 'improvement_surcharge', 'total_amount', 'payment_type', 'trip_type', 'congestion_surcharge']\n"
     ]
    }
   ],
   "source": [
    "columns = []\n",
    "for column in df.columns:\n",
    "    if df[column].dtype=='float64':\n",
    "        columns.append(column)\n",
    "        \n",
    "print(columns)"
   ]
  },
  {
   "cell_type": "code",
   "execution_count": 40,
   "id": "6fd92842",
   "metadata": {},
   "outputs": [],
   "source": [
    "df[columns] = df[columns].astype(float)"
   ]
  }
 ],
 "metadata": {
  "kernelspec": {
   "display_name": "Python 3 (ipykernel)",
   "language": "python",
   "name": "python3"
  },
  "language_info": {
   "codemirror_mode": {
    "name": "ipython",
    "version": 3
   },
   "file_extension": ".py",
   "mimetype": "text/x-python",
   "name": "python",
   "nbconvert_exporter": "python",
   "pygments_lexer": "ipython3",
   "version": "3.9.2"
  }
 },
 "nbformat": 4,
 "nbformat_minor": 5
}
