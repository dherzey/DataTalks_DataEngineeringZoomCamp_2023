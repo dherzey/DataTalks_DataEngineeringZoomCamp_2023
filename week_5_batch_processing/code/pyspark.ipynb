{
 "cells": [
  {
   "cell_type": "code",
   "execution_count": 6,
   "id": "cab9f709",
   "metadata": {},
   "outputs": [
    {
     "name": "stderr",
     "output_type": "stream",
     "text": [
      "Setting default log level to \"WARN\".\n",
      "To adjust logging level use sc.setLogLevel(newLevel). For SparkR, use setLogLevel(newLevel).\n"
     ]
    },
    {
     "name": "stdout",
     "output_type": "stream",
     "text": [
      "23/02/22 14:29:56 WARN NativeCodeLoader: Unable to load native-hadoop library for your platform... using builtin-java classes where applicable\n"
     ]
    }
   ],
   "source": [
    "import pyspark\n",
    "from pyspark.sql import SparkSession\n",
    "\n",
    "spark = SparkSession.builder \\\n",
    "    .master(\"local[*]\") \\\n",
    "    .appName('test') \\\n",
    "    .getOrCreate()"
   ]
  },
  {
   "cell_type": "code",
   "execution_count": 1,
   "id": "27469084",
   "metadata": {
    "scrolled": true
   },
   "outputs": [
    {
     "name": "stdout",
     "output_type": "stream",
     "text": [
      "--2023-02-22 14:27:45--  https://d37ci6vzurychx.cloudfront.net/trip-data/fhvhv_tripdata_2021-01.parquet\n",
      "Resolving d37ci6vzurychx.cloudfront.net (d37ci6vzurychx.cloudfront.net)... 52.84.160.73, 52.84.160.213, 52.84.160.84, ...\n",
      "Connecting to d37ci6vzurychx.cloudfront.net (d37ci6vzurychx.cloudfront.net)|52.84.160.73|:443... connected.\n",
      "HTTP request sent, awaiting response... 200 OK\n",
      "Length: 308924937 (295M) [application/x-www-form-urlencoded]\n",
      "Saving to: ‘/home/jdtganding/Documents/data-engineering-zoomcamp/week_5_batch_processing/fhvhv_tripdata_2021-01.parquet’\n",
      "\n",
      "fhvhv_tripdata_2021 100%[===================>] 294.61M  63.0MB/s    in 4.2s    \n",
      "\n",
      "2023-02-22 14:27:50 (70.2 MB/s) - ‘/home/jdtganding/Documents/data-engineering-zoomcamp/week_5_batch_processing/fhvhv_tripdata_2021-01.parquet’ saved [308924937/308924937]\n",
      "\n"
     ]
    }
   ],
   "source": [
    "! wget https://d37ci6vzurychx.cloudfront.net/trip-data/fhvhv_tripdata_2021-01.parquet -P /home/jdtganding/Documents/data-engineering-zoomcamp/week_5_batch_processing"
   ]
  },
  {
   "cell_type": "code",
   "execution_count": 7,
   "id": "e6cc8474",
   "metadata": {},
   "outputs": [
    {
     "name": "stderr",
     "output_type": "stream",
     "text": [
      "                                                                                \r"
     ]
    }
   ],
   "source": [
    "filename = '/home/jdtganding/Documents/data-engineering-zoomcamp/week_5_batch_processing/fhvhv_tripdata_2021-01.parquet'\n",
    "df = spark.read.parquet(filename)"
   ]
  },
  {
   "cell_type": "code",
   "execution_count": 8,
   "id": "656d85b7",
   "metadata": {
    "scrolled": true
   },
   "outputs": [
    {
     "data": {
      "text/plain": [
       "StructType([StructField('hvfhs_license_num', StringType(), True), StructField('dispatching_base_num', StringType(), True), StructField('originating_base_num', StringType(), True), StructField('request_datetime', TimestampType(), True), StructField('on_scene_datetime', TimestampType(), True), StructField('pickup_datetime', TimestampType(), True), StructField('dropoff_datetime', TimestampType(), True), StructField('PULocationID', LongType(), True), StructField('DOLocationID', LongType(), True), StructField('trip_miles', DoubleType(), True), StructField('trip_time', LongType(), True), StructField('base_passenger_fare', DoubleType(), True), StructField('tolls', DoubleType(), True), StructField('bcf', DoubleType(), True), StructField('sales_tax', DoubleType(), True), StructField('congestion_surcharge', DoubleType(), True), StructField('airport_fee', DoubleType(), True), StructField('tips', DoubleType(), True), StructField('driver_pay', DoubleType(), True), StructField('shared_request_flag', StringType(), True), StructField('shared_match_flag', StringType(), True), StructField('access_a_ride_flag', StringType(), True), StructField('wav_request_flag', StringType(), True), StructField('wav_match_flag', StringType(), True)])"
      ]
     },
     "execution_count": 8,
     "metadata": {},
     "output_type": "execute_result"
    }
   ],
   "source": [
    "df.schema"
   ]
  },
  {
   "cell_type": "code",
   "execution_count": 18,
   "id": "415181e5",
   "metadata": {},
   "outputs": [],
   "source": [
    "#we can use from pyspark.sql import types instead of indicating every type we need\n",
    "from pyspark.sql.types import StructType, StructField, StringType, TimestampType, LongType, DoubleType\n",
    "\n",
    "schema = StructType([\n",
    "    StructField('hvfhs_license_num', StringType(), True), \n",
    "    StructField('dispatching_base_num', StringType(), True), \n",
    "    StructField('originating_base_num', StringType(), True), \n",
    "    StructField('request_datetime', TimestampType(), True), \n",
    "    StructField('on_scene_datetime', TimestampType(), True), \n",
    "    StructField('pickup_datetime', TimestampType(), True), \n",
    "    StructField('dropoff_datetime', TimestampType(), True), \n",
    "    StructField('PULocationID', LongType(), True), \n",
    "    StructField('DOLocationID', LongType(), True), \n",
    "    StructField('trip_miles', DoubleType(), True), \n",
    "    StructField('trip_time', LongType(), True), \n",
    "    StructField('base_passenger_fare', DoubleType(), True), \n",
    "    StructField('tolls', DoubleType(), True), \n",
    "    StructField('bcf', DoubleType(), True), \n",
    "    StructField('sales_tax', DoubleType(), True), \n",
    "    StructField('congestion_surcharge', DoubleType(), True), \n",
    "    StructField('airport_fee', DoubleType(), True), \n",
    "    StructField('tips', DoubleType(), True), \n",
    "    StructField('driver_pay', DoubleType(), True), \n",
    "    StructField('shared_request_flag', StringType(), True), \n",
    "    StructField('shared_match_flag', StringType(), True), \n",
    "    StructField('access_a_ride_flag', StringType(), True), \n",
    "    StructField('wav_request_flag', StringType(), True), \n",
    "    StructField('wav_match_flag', StringType(), True)\n",
    "])"
   ]
  },
  {
   "cell_type": "code",
   "execution_count": 19,
   "id": "ea00646e",
   "metadata": {},
   "outputs": [],
   "source": [
    "df = spark.read \\\n",
    "          .schema(schema) \\\n",
    "          .parquet(filename)"
   ]
  },
  {
   "cell_type": "code",
   "execution_count": 22,
   "id": "0faa20a9",
   "metadata": {
    "scrolled": true
   },
   "outputs": [
    {
     "name": "stdout",
     "output_type": "stream",
     "text": [
      "root\n",
      " |-- hvfhs_license_num: string (nullable = true)\n",
      " |-- dispatching_base_num: string (nullable = true)\n",
      " |-- originating_base_num: string (nullable = true)\n",
      " |-- request_datetime: timestamp (nullable = true)\n",
      " |-- on_scene_datetime: timestamp (nullable = true)\n",
      " |-- pickup_datetime: timestamp (nullable = true)\n",
      " |-- dropoff_datetime: timestamp (nullable = true)\n",
      " |-- PULocationID: long (nullable = true)\n",
      " |-- DOLocationID: long (nullable = true)\n",
      " |-- trip_miles: double (nullable = true)\n",
      " |-- trip_time: long (nullable = true)\n",
      " |-- base_passenger_fare: double (nullable = true)\n",
      " |-- tolls: double (nullable = true)\n",
      " |-- bcf: double (nullable = true)\n",
      " |-- sales_tax: double (nullable = true)\n",
      " |-- congestion_surcharge: double (nullable = true)\n",
      " |-- airport_fee: double (nullable = true)\n",
      " |-- tips: double (nullable = true)\n",
      " |-- driver_pay: double (nullable = true)\n",
      " |-- shared_request_flag: string (nullable = true)\n",
      " |-- shared_match_flag: string (nullable = true)\n",
      " |-- access_a_ride_flag: string (nullable = true)\n",
      " |-- wav_request_flag: string (nullable = true)\n",
      " |-- wav_match_flag: string (nullable = true)\n",
      "\n"
     ]
    }
   ],
   "source": [
    "df.printSchema()"
   ]
  },
  {
   "cell_type": "code",
   "execution_count": 20,
   "id": "647f6e87",
   "metadata": {
    "scrolled": true
   },
   "outputs": [
    {
     "name": "stderr",
     "output_type": "stream",
     "text": [
      "                                                                                \r"
     ]
    },
    {
     "data": {
      "text/plain": [
       "[Row(hvfhs_license_num='HV0003', dispatching_base_num='B02682', originating_base_num='B02682', request_datetime=datetime.datetime(2021, 1, 1, 0, 28, 9), on_scene_datetime=datetime.datetime(2021, 1, 1, 0, 31, 42), pickup_datetime=datetime.datetime(2021, 1, 1, 0, 33, 44), dropoff_datetime=datetime.datetime(2021, 1, 1, 0, 49, 7), PULocationID=230, DOLocationID=166, trip_miles=5.26, trip_time=923, base_passenger_fare=22.28, tolls=0.0, bcf=0.67, sales_tax=1.98, congestion_surcharge=2.75, airport_fee=None, tips=0.0, driver_pay=14.99, shared_request_flag='N', shared_match_flag='N', access_a_ride_flag=' ', wav_request_flag='N', wav_match_flag='N'),\n",
       " Row(hvfhs_license_num='HV0003', dispatching_base_num='B02682', originating_base_num='B02682', request_datetime=datetime.datetime(2021, 1, 1, 0, 45, 56), on_scene_datetime=datetime.datetime(2021, 1, 1, 0, 55, 19), pickup_datetime=datetime.datetime(2021, 1, 1, 0, 55, 19), dropoff_datetime=datetime.datetime(2021, 1, 1, 1, 18, 21), PULocationID=152, DOLocationID=167, trip_miles=3.65, trip_time=1382, base_passenger_fare=18.36, tolls=0.0, bcf=0.55, sales_tax=1.63, congestion_surcharge=0.0, airport_fee=None, tips=0.0, driver_pay=17.06, shared_request_flag='N', shared_match_flag='N', access_a_ride_flag=' ', wav_request_flag='N', wav_match_flag='N'),\n",
       " Row(hvfhs_license_num='HV0003', dispatching_base_num='B02764', originating_base_num='B02764', request_datetime=datetime.datetime(2021, 1, 1, 0, 21, 15), on_scene_datetime=datetime.datetime(2021, 1, 1, 0, 22, 41), pickup_datetime=datetime.datetime(2021, 1, 1, 0, 23, 56), dropoff_datetime=datetime.datetime(2021, 1, 1, 0, 38, 5), PULocationID=233, DOLocationID=142, trip_miles=3.51, trip_time=849, base_passenger_fare=14.05, tolls=0.0, bcf=0.48, sales_tax=1.25, congestion_surcharge=2.75, airport_fee=None, tips=0.94, driver_pay=12.98, shared_request_flag='N', shared_match_flag='N', access_a_ride_flag=' ', wav_request_flag='N', wav_match_flag='N'),\n",
       " Row(hvfhs_license_num='HV0003', dispatching_base_num='B02764', originating_base_num='B02764', request_datetime=datetime.datetime(2021, 1, 1, 0, 39, 12), on_scene_datetime=datetime.datetime(2021, 1, 1, 0, 42, 37), pickup_datetime=datetime.datetime(2021, 1, 1, 0, 42, 51), dropoff_datetime=datetime.datetime(2021, 1, 1, 0, 45, 50), PULocationID=142, DOLocationID=143, trip_miles=0.74, trip_time=179, base_passenger_fare=7.91, tolls=0.0, bcf=0.24, sales_tax=0.7, congestion_surcharge=2.75, airport_fee=None, tips=0.0, driver_pay=7.41, shared_request_flag='N', shared_match_flag='N', access_a_ride_flag=' ', wav_request_flag='N', wav_match_flag='N'),\n",
       " Row(hvfhs_license_num='HV0003', dispatching_base_num='B02764', originating_base_num='B02764', request_datetime=datetime.datetime(2021, 1, 1, 0, 46, 11), on_scene_datetime=datetime.datetime(2021, 1, 1, 0, 47, 17), pickup_datetime=datetime.datetime(2021, 1, 1, 0, 48, 14), dropoff_datetime=datetime.datetime(2021, 1, 1, 1, 8, 42), PULocationID=143, DOLocationID=78, trip_miles=9.2, trip_time=1228, base_passenger_fare=27.11, tolls=0.0, bcf=0.81, sales_tax=2.41, congestion_surcharge=2.75, airport_fee=None, tips=0.0, driver_pay=22.44, shared_request_flag='N', shared_match_flag='N', access_a_ride_flag=' ', wav_request_flag='N', wav_match_flag='N')]"
      ]
     },
     "execution_count": 20,
     "metadata": {},
     "output_type": "execute_result"
    }
   ],
   "source": [
    "df.head(5)"
   ]
  },
  {
   "cell_type": "code",
   "execution_count": 26,
   "id": "f009994c",
   "metadata": {},
   "outputs": [
    {
     "name": "stdout",
     "output_type": "stream",
     "text": [
      "+-----------------+------------+------------+-------------------+-------------------+\n",
      "|hvfhs_license_num|PULocationID|DOLocationID|    pickup_datetime|   dropoff_datetime|\n",
      "+-----------------+------------+------------+-------------------+-------------------+\n",
      "|           HV0003|         230|         166|2021-01-01 00:33:44|2021-01-01 00:49:07|\n",
      "|           HV0003|         152|         167|2021-01-01 00:55:19|2021-01-01 01:18:21|\n",
      "|           HV0003|         233|         142|2021-01-01 00:23:56|2021-01-01 00:38:05|\n",
      "|           HV0003|         142|         143|2021-01-01 00:42:51|2021-01-01 00:45:50|\n",
      "|           HV0003|         143|          78|2021-01-01 00:48:14|2021-01-01 01:08:42|\n",
      "|           HV0003|          71|         226|2021-01-01 00:14:30|2021-01-01 00:50:27|\n",
      "|           HV0003|         112|         255|2021-01-01 00:22:54|2021-01-01 00:30:20|\n",
      "|           HV0003|         255|         232|2021-01-01 00:40:12|2021-01-01 00:53:31|\n",
      "|           HV0003|         232|         198|2021-01-01 00:56:45|2021-01-01 01:17:42|\n",
      "|           HV0003|         113|          48|2021-01-01 00:29:04|2021-01-01 00:36:27|\n",
      "+-----------------+------------+------------+-------------------+-------------------+\n",
      "only showing top 10 rows\n",
      "\n"
     ]
    }
   ],
   "source": [
    "df.select('hvfhs_license_num','PULocationID','DOLocationID','pickup_datetime','dropoff_datetime') \\\n",
    "  .filter(df.hvfhs_license_num=='HV0003') \\\n",
    "  .show(10)"
   ]
  },
  {
   "cell_type": "code",
   "execution_count": 27,
   "id": "90a7e20f",
   "metadata": {},
   "outputs": [],
   "source": [
    "from pyspark.sql import functions as F"
   ]
  },
  {
   "cell_type": "code",
   "execution_count": 30,
   "id": "3b06b573",
   "metadata": {},
   "outputs": [],
   "source": [
    "#example we create some Python function:\n",
    "def crazy_stuff(base_num):\n",
    "    num = int(base_num[1:])\n",
    "    if num % 7 == 0:\n",
    "        return f's/{num:03x}'\n",
    "    elif num % 3 == 0:\n",
    "        return f'a/{num:03x}'\n",
    "    else:\n",
    "        return f'e/{num:03x}'\n",
    "\n",
    "#we call udf() to create our PySpark function\n",
    "crazy_stuff_udf = F.udf(crazy_stuff, returnType=StringType())"
   ]
  },
  {
   "cell_type": "code",
   "execution_count": 31,
   "id": "a5624986",
   "metadata": {},
   "outputs": [
    {
     "name": "stderr",
     "output_type": "stream",
     "text": [
      "[Stage 11:=============================>                            (1 + 1) / 2]\r"
     ]
    },
    {
     "name": "stdout",
     "output_type": "stream",
     "text": [
      "+-------+-----------+------------+------------+------------+\n",
      "|base_id|pickup_date|dropoff_date|PULocationID|DOLocationID|\n",
      "+-------+-----------+------------+------------+------------+\n",
      "|  a/a7a| 2021-01-01|  2021-01-01|         230|         166|\n",
      "|  a/a7a| 2021-01-01|  2021-01-01|         152|         167|\n",
      "|  e/acc| 2021-01-01|  2021-01-01|         233|         142|\n",
      "|  e/acc| 2021-01-01|  2021-01-01|         142|         143|\n",
      "|  e/acc| 2021-01-01|  2021-01-01|         143|          78|\n",
      "|  e/9ce| 2021-01-01|  2021-01-01|          88|          42|\n",
      "|  e/9ce| 2021-01-01|  2021-01-01|          42|         151|\n",
      "|  e/acc| 2021-01-01|  2021-01-01|          71|         226|\n",
      "|  e/b3b| 2021-01-01|  2021-01-01|         112|         255|\n",
      "|  e/b3b| 2021-01-01|  2021-01-01|         255|         232|\n",
      "|  e/b3b| 2021-01-01|  2021-01-01|         232|         198|\n",
      "|  s/b13| 2021-01-01|  2021-01-01|         113|          48|\n",
      "|  s/b13| 2021-01-01|  2021-01-01|         239|          75|\n",
      "|  s/af0| 2021-01-01|  2021-01-01|         181|         237|\n",
      "|  s/af0| 2021-01-01|  2021-01-01|         236|          68|\n",
      "|  a/a7a| 2021-01-01|  2021-01-01|         256|         148|\n",
      "|  a/a7a| 2021-01-01|  2021-01-01|          79|          80|\n",
      "|  a/a7a| 2021-01-01|  2021-01-01|          17|         217|\n",
      "|  e/9ce| 2021-01-01|  2021-01-01|          62|          29|\n",
      "|  e/b14| 2021-01-01|  2021-01-01|          22|          22|\n",
      "+-------+-----------+------------+------------+------------+\n",
      "only showing top 20 rows\n",
      "\n"
     ]
    },
    {
     "name": "stderr",
     "output_type": "stream",
     "text": [
      "\r",
      "                                                                                \r"
     ]
    }
   ],
   "source": [
    "df \\\n",
    "    .withColumn('pickup_date', F.to_date(df.pickup_datetime)) \\\n",
    "    .withColumn('dropoff_date', F.to_date(df.dropoff_datetime)) \\\n",
    "    .withColumn('base_id', crazy_stuff_udf(df.dispatching_base_num)) \\\n",
    "    .select('base_id', 'pickup_date', 'dropoff_date', 'PULocationID', 'DOLocationID') \\\n",
    "    .show()"
   ]
  }
 ],
 "metadata": {
  "kernelspec": {
   "display_name": "Python 3 (ipykernel)",
   "language": "python",
   "name": "python3"
  },
  "language_info": {
   "codemirror_mode": {
    "name": "ipython",
    "version": 3
   },
   "file_extension": ".py",
   "mimetype": "text/x-python",
   "name": "python",
   "nbconvert_exporter": "python",
   "pygments_lexer": "ipython3",
   "version": "3.9.2"
  }
 },
 "nbformat": 4,
 "nbformat_minor": 5
}
