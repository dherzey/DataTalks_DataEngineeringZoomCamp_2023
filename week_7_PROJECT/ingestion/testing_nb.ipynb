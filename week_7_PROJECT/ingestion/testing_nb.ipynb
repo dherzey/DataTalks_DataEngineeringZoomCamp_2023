{
 "cells": [
  {
   "cell_type": "code",
   "execution_count": 16,
   "metadata": {},
   "outputs": [],
   "source": [
    "import io\n",
    "import time\n",
    "import requests\n",
    "import pandas as pd\n",
    "from bs4 import BeautifulSoup\n",
    "\n",
    "html = requests.get('http://bechdeltest.com/api/v1/getAllMovies').content\n",
    "df = pd.read_json(io.StringIO(html.decode('utf-8')))"
   ]
  },
  {
   "cell_type": "code",
   "execution_count": 8,
   "metadata": {},
   "outputs": [
    {
     "data": {
      "text/html": [
       "<div>\n",
       "<style scoped>\n",
       "    .dataframe tbody tr th:only-of-type {\n",
       "        vertical-align: middle;\n",
       "    }\n",
       "\n",
       "    .dataframe tbody tr th {\n",
       "        vertical-align: top;\n",
       "    }\n",
       "\n",
       "    .dataframe thead th {\n",
       "        text-align: right;\n",
       "    }\n",
       "</style>\n",
       "<table border=\"1\" class=\"dataframe\">\n",
       "  <thead>\n",
       "    <tr style=\"text-align: right;\">\n",
       "      <th></th>\n",
       "      <th>rating</th>\n",
       "      <th>imdbid</th>\n",
       "      <th>id</th>\n",
       "      <th>title</th>\n",
       "      <th>year</th>\n",
       "    </tr>\n",
       "  </thead>\n",
       "  <tbody>\n",
       "    <tr>\n",
       "      <th>0</th>\n",
       "      <td>0</td>\n",
       "      <td>3155794</td>\n",
       "      <td>9602</td>\n",
       "      <td>Passage de Venus</td>\n",
       "      <td>1874</td>\n",
       "    </tr>\n",
       "    <tr>\n",
       "      <th>1</th>\n",
       "      <td>0</td>\n",
       "      <td>14495706</td>\n",
       "      <td>9804</td>\n",
       "      <td>La Rosace Magique</td>\n",
       "      <td>1877</td>\n",
       "    </tr>\n",
       "    <tr>\n",
       "      <th>2</th>\n",
       "      <td>0</td>\n",
       "      <td>2221420</td>\n",
       "      <td>9603</td>\n",
       "      <td>Sallie Gardner at a Gallop</td>\n",
       "      <td>1878</td>\n",
       "    </tr>\n",
       "    <tr>\n",
       "      <th>3</th>\n",
       "      <td>0</td>\n",
       "      <td>12592084</td>\n",
       "      <td>9806</td>\n",
       "      <td>Le singe musicien</td>\n",
       "      <td>1878</td>\n",
       "    </tr>\n",
       "    <tr>\n",
       "      <th>4</th>\n",
       "      <td>0</td>\n",
       "      <td>7816420</td>\n",
       "      <td>9816</td>\n",
       "      <td>Athlete Swinging a Pick</td>\n",
       "      <td>1881</td>\n",
       "    </tr>\n",
       "  </tbody>\n",
       "</table>\n",
       "</div>"
      ],
      "text/plain": [
       "   rating    imdbid    id                       title  year\n",
       "0       0   3155794  9602            Passage de Venus  1874\n",
       "1       0  14495706  9804           La Rosace Magique  1877\n",
       "2       0   2221420  9603  Sallie Gardner at a Gallop  1878\n",
       "3       0  12592084  9806           Le singe musicien  1878\n",
       "4       0   7816420  9816     Athlete Swinging a Pick  1881"
      ]
     },
     "execution_count": 8,
     "metadata": {},
     "output_type": "execute_result"
    }
   ],
   "source": [
    "df.head()"
   ]
  },
  {
   "cell_type": "code",
   "execution_count": 12,
   "metadata": {},
   "outputs": [],
   "source": [
    "df.to_csv('/home/jdtganding/Documents/data-engineering-zoomcamp/week_7_PROJECT/data/BechdelTestMovies.csv', index=None)"
   ]
  },
  {
   "cell_type": "code",
   "execution_count": 17,
   "metadata": {},
   "outputs": [],
   "source": [
    "from selenium import webdriver\n",
    "from selenium.webdriver.common.by import By\n",
    "\n",
    "options = webdriver.FirefoxOptions()\n",
    "options.add_argument('--ignore-certificate-errors')\n",
    "options.add_argument('--incognito')\n",
    "options.add_argument('--headless')\n",
    "\n",
    "driver = webdriver.Firefox(options=options)\n",
    "driver.get(\"https://awardsdatabase.oscars.org/\") \n",
    "\n",
    "#select award categories\n",
    "driver.find_element(By.XPATH,\"//button[contains(@class,'awards-basicsrch-awardcategory')]\").click()\n",
    "driver.find_element(By.XPATH,\"//b[contains(text(),'Current Categories')]\").click()\n",
    "\n",
    "#select starting award year\n",
    "driver.find_element(By.XPATH,\"//button[contains(@class,'awards-advsrch-yearsfrom')]\").click()\n",
    "driver.find_element(By.XPATH,\"//div[@class='btn-group multiselect-btn-group open']//input[@value='1']\").click()\n",
    "\n",
    "#select ending award year\n",
    "driver.find_element(By.XPATH,\"//button[contains(@class,'awards-advsrch-yearsto')]\").click()\n",
    "year_latest = len(driver.find_elements(By.XPATH,\"//div[@class='btn-group multiselect-btn-group open']//li\"))-2\n",
    "driver.find_element(By.XPATH,f\"//div[@class='btn-group multiselect-btn-group open']//input[@value='{year_latest}']\").click()\n",
    "\n",
    "#search to view results\n",
    "driver.find_element(By.XPATH,'//*[@id=\"btnbasicsearch\"]').click()\n",
    "\n",
    "#wait for all results to show\n",
    "time.sleep(60)\n",
    "\n",
    "#get html source for BeautifulSoup extraction\n",
    "page_source = driver.page_source\n",
    "\n",
    "#close driver\n",
    "driver.close()"
   ]
  },
  {
   "cell_type": "code",
   "execution_count": 18,
   "metadata": {},
   "outputs": [],
   "source": [
    "soup = BeautifulSoup(page_source, \"lxml\")\n",
    "results_container = soup.find('div', {'id':'resultscontainer'})\n",
    "\n",
    "with open (\"sample.txt\", \"w\") as file:\n",
    "    file.write(str(results_container))"
   ]
  },
  {
   "cell_type": "code",
   "execution_count": 23,
   "metadata": {},
   "outputs": [
    {
     "data": {
      "text/plain": [
       "'1927/28 (1st)'"
      ]
     },
     "execution_count": 23,
     "metadata": {},
     "output_type": "execute_result"
    }
   ],
   "source": [
    "award_group = results_container.find('div', class_='awards-result-chron result-group group-awardcategory-chron')\n",
    "award_group.find('div', class_='result-group-title').find('a').text"
   ]
  }
 ],
 "metadata": {
  "kernelspec": {
   "display_name": "Python 3",
   "language": "python",
   "name": "python3"
  },
  "language_info": {
   "codemirror_mode": {
    "name": "ipython",
    "version": 3
   },
   "file_extension": ".py",
   "mimetype": "text/x-python",
   "name": "python",
   "nbconvert_exporter": "python",
   "pygments_lexer": "ipython3",
   "version": "3.9.2"
  },
  "orig_nbformat": 4,
  "vscode": {
   "interpreter": {
    "hash": "916dbcbb3f70747c44a77c7bcd40155683ae19c65e1c03b4aa3499c5328201f1"
   }
  }
 },
 "nbformat": 4,
 "nbformat_minor": 2
}
